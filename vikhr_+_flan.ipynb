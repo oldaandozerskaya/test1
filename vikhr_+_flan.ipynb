{
  "nbformat": 4,
  "nbformat_minor": 0,
  "metadata": {
    "colab": {
      "private_outputs": true,
      "provenance": [],
      "gpuType": "T4",
      "toc_visible": true
    },
    "kernelspec": {
      "name": "python3",
      "display_name": "Python 3"
    },
    "language_info": {
      "name": "python"
    },
    "accelerator": "GPU"
  },
  "cells": [
    {
      "cell_type": "markdown",
      "source": [
        "# Vikhr 0.5_it beta, chatml 004, 1052"
      ],
      "metadata": {
        "id": "paM-Uyf39Mxw"
      }
    },
    {
      "cell_type": "code",
      "source": [
        "import locale\n",
        "def getpreferredencoding(do_setlocale = True):\n",
        "    return \"UTF-8\"\n",
        "locale.getpreferredencoding = getpreferredencoding"
      ],
      "metadata": {
        "id": "3pac4hxZHgnr"
      },
      "execution_count": null,
      "outputs": []
    },
    {
      "cell_type": "code",
      "source": [
        "!pip install transformers==4.36.2 -qq\n",
        "!pip install accelerate -qq\n",
        "!pip install SentencePiece -qq\n",
        "!pip install bitsandbytes -qq\n",
        "!pip install protobuf -qq\n",
        "!pip install peft"
      ],
      "metadata": {
        "id": "EvV3Engq9FLt"
      },
      "execution_count": null,
      "outputs": []
    },
    {
      "cell_type": "code",
      "source": [
        "!nvidia-smi"
      ],
      "metadata": {
        "id": "GlVI4VF7CG9T"
      },
      "execution_count": null,
      "outputs": []
    },
    {
      "cell_type": "code",
      "source": [
        "from google.colab import drive\n",
        "drive.mount('/content/gdrive')\n",
        "import pandas as pd\n",
        "df = pd.read_csv(\"/content/gdrive/MyDrive/SciKeywords_data/rukeywords_langdetect.csv\")\n",
        "new_texts = list(df.texts.values)\n",
        "new_keywords = list(df.keywords.values)\n",
        "train_texts = new_texts[:round(len(new_texts)*0.7)]\n",
        "train_keywords = new_keywords[:round(len(new_texts)*0.7)]\n",
        "test_texts = new_texts[round(len(new_texts)*0.7):]\n",
        "test_keywords = new_keywords[round(len(new_texts)*0.7):]"
      ],
      "metadata": {
        "id": "qnvj02mWAk2y"
      },
      "execution_count": null,
      "outputs": []
    },
    {
      "cell_type": "code",
      "source": [
        "import pickle\n",
        "with open('/content/gdrive/MyDrive/damdid 2024/llm/vikhr_math.pickle', 'rb') as f:\n",
        "        generated_texts = pickle.load(f)\n",
        "len(generated_texts)"
      ],
      "metadata": {
        "id": "VmNKHRudgsOe"
      },
      "execution_count": null,
      "outputs": []
    },
    {
      "cell_type": "code",
      "source": [
        "from transformers import AutoTokenizer, AutoModelForCausalLM\n",
        "import torch\n",
        "model = AutoModelForCausalLM.from_pretrained(\"Vikhrmodels/Vikhr-7B-instruct_0.4\",\n",
        "                                             device_map=\"auto\",\n",
        "                                             #attn_implementation=\"flash_attention_2\",\n",
        "                                             torch_dtype=torch.bfloat16)\n",
        "\n",
        "tokenizer = AutoTokenizer.from_pretrained(\"Vikhrmodels/Vikhr-7B-instruct_0.4\")\n",
        "from transformers import  AutoTokenizer, pipeline\n",
        "pipe = pipeline(\"text-generation\", model=model, tokenizer=tokenizer)"
      ],
      "metadata": {
        "id": "hfifOxIXhD3q"
      },
      "execution_count": null,
      "outputs": []
    },
    {
      "cell_type": "code",
      "source": [
        "prompt = \"Сгенерируй ключевые слова для научной статьи по тексту аннотации. \\n\"\n",
        "\n",
        "def add_examples(dsp, i):\n",
        "  random.seed(i)\n",
        "  for i in range(3):\n",
        "    r = random.randint(0,len(train_texts)-1)\n",
        "    dsp += 'Текст аннотации: '\n",
        "    dsp += train_texts[r]\n",
        "    dsp += ' \\n'\n",
        "    dsp += train_keywords[r]\n",
        "    dsp += ' \\n'\n",
        "  return dsp\n",
        "\n",
        "def test_inference(prompt, i):\n",
        "    prompt = pipe.tokenizer.apply_chat_template([{\"role\": \"user\", \"content\": add_examples(prompt) + '\\nТекст аннотации:\\n' + test_texts[i]}], tokenize=False, add_generation_prompt=True)\n",
        "    outputs = pipe(prompt, max_new_tokens=100, do_sample=True, num_beams=1, temperature=0.25, top_k=50, top_p=0.98, eos_token_id=79097)\n",
        "    return outputs[0]['generated_text'][len(prompt):].strip()\n",
        "\n",
        "\n",
        "import pickle\n",
        "#generated_texts =[]\n",
        "for i in range(len(test_texts)):\n",
        "  if i>2490:\n",
        "    answer = test_inference(prompt, i)\n",
        "    generated_texts.append(answer)\n",
        "    if i%10==0 and i>0:\n",
        "      print(i)\n",
        "      print(test_texts[i])\n",
        "      print(answer)\n",
        "      with open('/content/gdrive/MyDrive/damdid 2024/llm/vikhr_math.pickle', 'wb') as f:\n",
        "        pickle.dump(generated_texts, f)"
      ],
      "metadata": {
        "id": "4Ov9qifFNpr6"
      },
      "execution_count": null,
      "outputs": []
    },
    {
      "cell_type": "code",
      "source": [
        "with open('/content/gdrive/MyDrive/damdid 2024/llm/vikhr_math.pickle', 'wb') as f:\n",
        "        pickle.dump(generated_texts, f)"
      ],
      "metadata": {
        "id": "TemujegxOzFD"
      },
      "execution_count": null,
      "outputs": []
    },
    {
      "cell_type": "code",
      "source": [
        "len(generated_texts)"
      ],
      "metadata": {
        "id": "pPT0Xl_6tQyA"
      },
      "execution_count": null,
      "outputs": []
    },
    {
      "cell_type": "markdown",
      "source": [
        "#FLAN"
      ],
      "metadata": {
        "id": "58FfB_4znLeG"
      }
    },
    {
      "cell_type": "code",
      "source": [
        "!pip install accelerate\n",
        "!pip install transformers"
      ],
      "metadata": {
        "id": "fmLtTeeSowgg"
      },
      "execution_count": null,
      "outputs": []
    },
    {
      "cell_type": "code",
      "source": [
        "import accelerate\n",
        "from transformers import T5Tokenizer, T5ForConditionalGeneration\n",
        "\n",
        "tokenizer = T5Tokenizer.from_pretrained(\"google/flan-t5-large\")\n",
        "model = T5ForConditionalGeneration.from_pretrained(\"google/flan-t5-large\", device_map=\"auto\")\n",
        "\n",
        "input_text = \"translate English to German: How old are you?\"\n",
        "input_ids = tokenizer(input_text, return_tensors=\"pt\").input_ids.to(\"cuda\")\n",
        "\n",
        "outputs = model.generate(input_ids)\n",
        "print(tokenizer.decode(outputs[0]))"
      ],
      "metadata": {
        "id": "U7u7CUFwnMoI"
      },
      "execution_count": null,
      "outputs": []
    },
    {
      "cell_type": "code",
      "source": [
        "#prompt = \"Сгенерируй ключевые слова для научной статьи по тексту аннотации. Ключевые слова выведи в одну строку через запятую. \\n Текст аннотации: \"\n",
        "prompt = 'Generate keywords for a scientific paper using the given abstract. Keyphrases are written in one line and separated by commas. \\n Abstract:'\n",
        "input_text = prompt + translation\n",
        "input_ids = tokenizer(input_text, return_tensors=\"pt\").input_ids.to(\"cuda\")\n",
        "\n",
        "outputs = model.generate(input_ids)\n",
        "keywords = tokenizer.decode(outputs[0])\n",
        "print(keywords)"
      ],
      "metadata": {
        "id": "X2YF9EySpDgo"
      },
      "execution_count": null,
      "outputs": []
    },
    {
      "cell_type": "code",
      "source": [
        "input_text = \"Translate Russian to English: \" + test_texts[0]\n",
        "input_ids = tokenizer(input_text, return_tensors=\"pt\").input_ids.to(\"cuda\")\n",
        "\n",
        "outputs = model.generate(input_ids, max_new_tokens = 1024)\n",
        "translation = tokenizer.decode(outputs[0])\n",
        "print(translation)"
      ],
      "metadata": {
        "id": "0XbHVbXqsaYI"
      },
      "execution_count": null,
      "outputs": []
    },
    {
      "cell_type": "code",
      "source": [
        "input_text = \"Translate English to Russian: \" + keywords\n",
        "input_ids = tokenizer(input_text, return_tensors=\"pt\").input_ids.to(\"cuda\")\n",
        "\n",
        "outputs = model.generate(input_ids, max_new_tokens = 128)\n",
        "translated_keywords = tokenizer.decode(outputs[0])\n",
        "print(translated_keywords)"
      ],
      "metadata": {
        "id": "1hz-oRW4wwFj"
      },
      "execution_count": null,
      "outputs": []
    },
    {
      "cell_type": "code",
      "source": [
        "test_texts[0]"
      ],
      "metadata": {
        "id": "VL6dN87swbIr"
      },
      "execution_count": null,
      "outputs": []
    }
  ]
}